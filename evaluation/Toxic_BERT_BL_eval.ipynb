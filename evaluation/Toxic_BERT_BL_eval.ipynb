{
 "cells": [
  {
   "cell_type": "code",
   "execution_count": 1,
   "id": "republican-arthritis",
   "metadata": {},
   "outputs": [],
   "source": [
    "import pandas as pd\n",
    "\n",
    "from util.model_stats import print_stats\n",
    "\n",
    "import matplotlib.pyplot as plt\n",
    "plt.style.use('seaborn-whitegrid')"
   ]
  },
  {
   "cell_type": "code",
   "execution_count": 2,
   "id": "local-hopkins",
   "metadata": {},
   "outputs": [],
   "source": [
    "# load df\n",
    "\n",
    "dfs = []\n",
    "for i in range(5):\n",
    "    df = pd.read_pickle(f\"../pickle/toxic/df_BERT_BL_{i}.pkl\")\n",
    "    dfs.append(df)\n",
    "    i = i+1"
   ]
  },
  {
   "cell_type": "code",
   "execution_count": 3,
   "id": "working-corporation",
   "metadata": {},
   "outputs": [
    {
     "name": "stdout",
     "output_type": "stream",
     "text": [
      "F1 94.024 0.2\n",
      "Detection Error 6.0 0.2\n",
      "\n",
      "AUC_ROC 91.3 0.3\n",
      "AUC_PR_True 99.4 0.0\n",
      "AUC_PR_False 35.8 0.9\n",
      "\n",
      "MEAN PROB True 98.5 0.1\n",
      "MEAN PROB False 86.6 0.5\n",
      "MEAN PROB Range 11.900000000000006\n"
     ]
    }
   ],
   "source": [
    "# print stats\n",
    "print_stats(dfs, average='micro')"
   ]
  }
 ],
 "metadata": {
  "kernelspec": {
   "display_name": "Python 3",
   "language": "python",
   "name": "python3"
  },
  "language_info": {
   "codemirror_mode": {
    "name": "ipython",
    "version": 3
   },
   "file_extension": ".py",
   "mimetype": "text/x-python",
   "name": "python",
   "nbconvert_exporter": "python",
   "pygments_lexer": "ipython3",
   "version": "3.8.8"
  }
 },
 "nbformat": 4,
 "nbformat_minor": 5
}
