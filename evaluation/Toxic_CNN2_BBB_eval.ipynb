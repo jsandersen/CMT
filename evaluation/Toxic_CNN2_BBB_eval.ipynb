{
 "cells": [
  {
   "cell_type": "code",
   "execution_count": 1,
   "id": "republican-arthritis",
   "metadata": {},
   "outputs": [],
   "source": [
    "import pandas as pd\n",
    "\n",
    "from util.model_stats import print_stats\n",
    "\n",
    "import matplotlib.pyplot as plt\n",
    "plt.style.use('seaborn-whitegrid')"
   ]
  },
  {
   "cell_type": "code",
   "execution_count": 2,
   "id": "local-hopkins",
   "metadata": {},
   "outputs": [],
   "source": [
    "# load df\n",
    "\n",
    "dfs = []\n",
    "for i in range(5):\n",
    "    df = pd.read_pickle(f\"../pickle/toxic/df_CNN2_BBB_{i}.pkl\")\n",
    "    dfs.append(df)\n",
    "    i = i+1"
   ]
  },
  {
   "cell_type": "code",
   "execution_count": 3,
   "id": "prime-commodity",
   "metadata": {},
   "outputs": [
    {
     "name": "stdout",
     "output_type": "stream",
     "text": [
      "F1 91.31 0.2\n",
      "Detection Error 8.7 0.2\n",
      "\n",
      "AUC_ROC 85.2 0.4\n",
      "AUC_PR_True 98.2 0.1\n",
      "AUC_PR_False 35.3 1.1\n",
      "\n",
      "MEAN PROB True 97.1 0.1\n",
      "MEAN PROB False 82.8 0.3\n",
      "MEAN PROB Range 14.299999999999997\n"
     ]
    }
   ],
   "source": [
    "# print stats\n",
    "print_stats(dfs, average='micro')"
   ]
  }
 ],
 "metadata": {
  "kernelspec": {
   "display_name": "Python 3",
   "language": "python",
   "name": "python3"
  },
  "language_info": {
   "codemirror_mode": {
    "name": "ipython",
    "version": 3
   },
   "file_extension": ".py",
   "mimetype": "text/x-python",
   "name": "python",
   "nbconvert_exporter": "python",
   "pygments_lexer": "ipython3",
   "version": "3.8.8"
  }
 },
 "nbformat": 4,
 "nbformat_minor": 5
}
