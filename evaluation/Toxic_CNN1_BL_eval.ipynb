{
 "cells": [
  {
   "cell_type": "code",
   "execution_count": 1,
   "id": "republican-arthritis",
   "metadata": {},
   "outputs": [],
   "source": [
    "import pandas as pd\n",
    "\n",
    "from util.model_stats import print_stats\n",
    "\n",
    "import matplotlib.pyplot as plt\n",
    "plt.style.use('seaborn-whitegrid')"
   ]
  },
  {
   "cell_type": "code",
   "execution_count": 2,
   "id": "local-hopkins",
   "metadata": {},
   "outputs": [],
   "source": [
    "# load df\n",
    "\n",
    "dfs = []\n",
    "for i in range(5):\n",
    "    df = pd.read_pickle(f\"../pickle/toxic/df_CNN1_BL_{i}.pkl\")\n",
    "    dfs.append(df)\n",
    "    i = i+1"
   ]
  },
  {
   "cell_type": "code",
   "execution_count": 3,
   "id": "atmospheric-vacation",
   "metadata": {},
   "outputs": [
    {
     "name": "stdout",
     "output_type": "stream",
     "text": [
      "F1 90.216 0.1\n",
      "Detection Error 9.8 0.1\n",
      "\n",
      "AUC_ROC 86.3 0.5\n",
      "AUC_PR_True 98.3 0.1\n",
      "AUC_PR_False 36.3 1.5\n",
      "\n",
      "MEAN PROB True 98.3 0.2\n",
      "MEAN PROB False 89.6 0.7\n",
      "MEAN PROB Range 8.700000000000003\n"
     ]
    }
   ],
   "source": [
    "# print stats\n",
    "print_stats(dfs, average='micro')"
   ]
  }
 ],
 "metadata": {
  "kernelspec": {
   "display_name": "Python 3",
   "language": "python",
   "name": "python3"
  },
  "language_info": {
   "codemirror_mode": {
    "name": "ipython",
    "version": 3
   },
   "file_extension": ".py",
   "mimetype": "text/x-python",
   "name": "python",
   "nbconvert_exporter": "python",
   "pygments_lexer": "ipython3",
   "version": "3.8.8"
  }
 },
 "nbformat": 4,
 "nbformat_minor": 5
}
