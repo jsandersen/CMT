{
 "cells": [
  {
   "cell_type": "code",
   "execution_count": 1,
   "metadata": {},
   "outputs": [],
   "source": [
    "import pandas as pd\n",
    "\n",
    "from util.model_stats import print_stats\n",
    "\n",
    "import matplotlib.pyplot as plt\n",
    "plt.style.use('seaborn-whitegrid')"
   ]
  },
  {
   "cell_type": "code",
   "execution_count": 2,
   "metadata": {},
   "outputs": [],
   "source": [
    "# load df\n",
    "name = 'CNN1_BL'\n",
    "\n",
    "dfs = []\n",
    "for i in range(5):\n",
    "    df = pd.read_pickle(f\"../pickle/imdb/{name}_{i}.pkl\")\n",
    "    dfs.append(df)\n",
    "    i = i+1"
   ]
  },
  {
   "cell_type": "code",
   "execution_count": 3,
   "metadata": {},
   "outputs": [
    {
     "name": "stdout",
     "output_type": "stream",
     "text": [
      "F1 88.722 0.1\n",
      "Detection Error 11.3 0.1\n",
      "\n",
      "AUC_ROC 83.7 0.2\n",
      "AUC_PR_True 97.4 0.1\n",
      "AUC_PR_False 36.6 0.7\n",
      "\n",
      "MEAN PROB True 97.9 0.1\n",
      "MEAN PROB False 88.5 0.6\n",
      "MEAN PROB True 9.400000000000006\n"
     ]
    }
   ],
   "source": [
    "# print stats\n",
    "print_stats(dfs, average='micro')"
   ]
  }
 ],
 "metadata": {
  "kernelspec": {
   "display_name": "Python 3",
   "language": "python",
   "name": "python3"
  },
  "language_info": {
   "codemirror_mode": {
    "name": "ipython",
    "version": 3
   },
   "file_extension": ".py",
   "mimetype": "text/x-python",
   "name": "python",
   "nbconvert_exporter": "python",
   "pygments_lexer": "ipython3",
   "version": "3.8.8"
  }
 },
 "nbformat": 4,
 "nbformat_minor": 4
}
