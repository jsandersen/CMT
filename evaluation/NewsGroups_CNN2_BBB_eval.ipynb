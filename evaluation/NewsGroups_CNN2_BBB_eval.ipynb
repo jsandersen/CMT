{
 "cells": [
  {
   "cell_type": "code",
   "execution_count": 1,
   "metadata": {},
   "outputs": [],
   "source": [
    "import pandas as pd\n",
    "\n",
    "from util.model_stats import print_stats\n",
    "\n",
    "import matplotlib.pyplot as plt\n",
    "plt.style.use('seaborn-whitegrid')"
   ]
  },
  {
   "cell_type": "code",
   "execution_count": 2,
   "metadata": {},
   "outputs": [
    {
     "name": "stdout",
     "output_type": "stream",
     "text": [
      "F1 86.818 0.2\n",
      "Detection Error 13.2 0.2\n",
      "\n",
      "AUC_ROC 88.5 0.5\n",
      "AUC_PR_True 97.9 0.1\n",
      "AUC_PR_False 53.9 1.6\n",
      "\n",
      "MEAN PROB True 92.0 0.1\n",
      "MEAN PROB False 60.1 0.3\n",
      "MEAN PROB Range 31.9\n"
     ]
    }
   ],
   "source": [
    "# load df\n",
    "name = 'CNN2_BBB'\n",
    "\n",
    "dfs = []\n",
    "for i in range(5):\n",
    "    df = pd.read_pickle(f\"../pickle/newsGroups/{name}_{i}.pkl\")\n",
    "    dfs.append(df)\n",
    "    i = i+1\n",
    "print_stats(dfs, average='micro')"
   ]
  }
 ],
 "metadata": {
  "kernelspec": {
   "display_name": "Python 3",
   "language": "python",
   "name": "python3"
  },
  "language_info": {
   "codemirror_mode": {
    "name": "ipython",
    "version": 3
   },
   "file_extension": ".py",
   "mimetype": "text/x-python",
   "name": "python",
   "nbconvert_exporter": "python",
   "pygments_lexer": "ipython3",
   "version": "3.8.8"
  }
 },
 "nbformat": 4,
 "nbformat_minor": 4
}
